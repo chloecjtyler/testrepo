{
 "cells": [
  {
   "cell_type": "markdown",
   "id": "26e6e897",
   "metadata": {},
   "source": [
    "# Data Science Tools and Ecosystem"
   ]
  },
  {
   "cell_type": "markdown",
   "id": "0de9dba4",
   "metadata": {},
   "source": [
    "## In this notebook, Data Science and Tools are summarized."
   ]
  },
  {
   "cell_type": "markdown",
   "id": "466a9685",
   "metadata": {},
   "source": [
    "Some of the popular languages that Data Scientists use are:\n"
   ]
  },
  {
   "cell_type": "markdown",
   "id": "5b513331",
   "metadata": {},
   "source": [
    "1. R\n",
    "2. Python\n",
    "3. SQL"
   ]
  },
  {
   "cell_type": "markdown",
   "id": "4a08f727",
   "metadata": {},
   "source": [
    "Some of the commonly used libraries used by  Data Scientists are:"
   ]
  },
  {
   "cell_type": "markdown",
   "id": "b1a21e54",
   "metadata": {},
   "source": [
    "1. NumPy\n",
    "2. Matplotlib\n",
    "3. Scikit-learn"
   ]
  },
  {
   "cell_type": "markdown",
   "id": "ba53cf83",
   "metadata": {},
   "source": [
    " \n"
   ]
  },
  {
   "cell_type": "markdown",
   "id": "7890adce",
   "metadata": {},
   "source": [
    "\n",
    "#\n",
    "| **Data Science Tools** |\n",
    "|------------------------|\n",
    "| MySQL |\n",
    "| PosgreSQL |\n",
    "| Apache Airflow |\n",
    " \n"
   ]
  },
  {
   "cell_type": "markdown",
   "id": "2d0ffe49",
   "metadata": {},
   "source": [
    "### Below are a few examples of evaluating arithmetic expressions in Python."
   ]
  },
  {
   "cell_type": "code",
   "execution_count": 32,
   "id": "600fd267",
   "metadata": {},
   "outputs": [
    {
     "data": {
      "text/plain": [
       "17"
      ]
     },
     "execution_count": 32,
     "metadata": {},
     "output_type": "execute_result"
    }
   ],
   "source": [
    "# This a simple arithmetic expression to mutiply then add integers.\n",
    "(3*4)+5\n"
   ]
  },
  {
   "cell_type": "code",
   "execution_count": 2,
   "id": "b3b14faa",
   "metadata": {},
   "outputs": [
    {
     "name": "stdout",
     "output_type": "stream",
     "text": [
      "3.3333333333333335\n"
     ]
    }
   ],
   "source": [
    "# This will convert 200 minutes to hours by dividing by 60.\n",
    "\n",
    "minutes = 60\n",
    "hours = 200/minutes \n",
    "print(hours)"
   ]
  },
  {
   "cell_type": "markdown",
   "id": "078c9e17",
   "metadata": {},
   "source": [
    "# **Objectives**"
   ]
  },
  {
   "cell_type": "markdown",
   "id": "8859dfdd",
   "metadata": {},
   "source": [
    "- List popular languages of Data Science\n",
    "- List commonly used libraries in Data Science\n",
    "- Understanding commonly used Data Science tools"
   ]
  },
  {
   "cell_type": "markdown",
   "id": "e2d9dbe9",
   "metadata": {},
   "source": [
    "## Author\n",
    "\n",
    "Charles Lee"
   ]
  },
  {
   "cell_type": "code",
   "execution_count": null,
   "id": "503fc289",
   "metadata": {},
   "outputs": [],
   "source": []
  }
 ],
 "metadata": {
  "kernelspec": {
   "display_name": "Python 3 (ipykernel)",
   "language": "python",
   "name": "python3"
  },
  "language_info": {
   "codemirror_mode": {
    "name": "ipython",
    "version": 3
   },
   "file_extension": ".py",
   "mimetype": "text/x-python",
   "name": "python",
   "nbconvert_exporter": "python",
   "pygments_lexer": "ipython3",
   "version": "3.10.9"
  }
 },
 "nbformat": 4,
 "nbformat_minor": 5
}
